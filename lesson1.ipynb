{
 "cells": [
  {
   "cell_type": "code",
   "execution_count": 2,
   "metadata": {},
   "outputs": [
    {
     "name": "stdout",
     "output_type": "stream",
     "text": [
      "2008\n",
      "10\n",
      "9\n"
     ]
    }
   ],
   "source": [
    "from datetime import date\n",
    "halloween = date(2008, 10, 9)\n",
    "print(halloween.year)\n",
    "print(halloween.month)\n",
    "print(halloween.day)"
   ]
  },
  {
   "cell_type": "code",
   "execution_count": 4,
   "metadata": {},
   "outputs": [
    {
     "name": "stdout",
     "output_type": "stream",
     "text": [
      "2022\n",
      "11\n",
      "2\n",
      "2022\n",
      "11\n",
      "3\n"
     ]
    }
   ],
   "source": [
    "from datetime import timedelta\n",
    "now = date.today()\n",
    "print(now.year)\n",
    "print(now.month)\n",
    "print(now.day)\n",
    "\n",
    "one_day = timedelta(days=1)\n",
    "\n",
    "tomorrow = now + one_day\n",
    "print(tomorrow.year)\n",
    "print(tomorrow.month)\n",
    "print(tomorrow.day)"
   ]
  },
  {
   "cell_type": "code",
   "execution_count": 6,
   "metadata": {},
   "outputs": [
    {
     "name": "stdout",
     "output_type": "stream",
     "text": [
      "12\n",
      "0\n",
      "0\n"
     ]
    }
   ],
   "source": [
    "from datetime import time\n",
    "\n",
    "noon = time(hour=12)\n",
    "print(noon.hour)\n",
    "print(noon.minute)\n",
    "print(noon.second)"
   ]
  },
  {
   "cell_type": "code",
   "execution_count": 7,
   "metadata": {},
   "outputs": [
    {
     "name": "stdout",
     "output_type": "stream",
     "text": [
      "11\n",
      "2022\n",
      "2\n",
      "11\n",
      "49\n",
      "36\n"
     ]
    }
   ],
   "source": [
    "\n",
    "from datetime import datetime\n",
    "now = datetime.now()\n",
    "print(now.month)\n",
    "print(now.year)\n",
    "print(now.day)\n",
    "print(now.hour)\n",
    "print(now.minute)\n",
    "print(now.second)"
   ]
  },
  {
   "cell_type": "code",
   "execution_count": 8,
   "metadata": {},
   "outputs": [
    {
     "name": "stdout",
     "output_type": "stream",
     "text": [
      "2022-11-02\n",
      "11:49:36.095847\n"
     ]
    }
   ],
   "source": [
    "print(now.date())\n",
    "print(now.time())"
   ]
  },
  {
   "cell_type": "code",
   "execution_count": 5,
   "metadata": {},
   "outputs": [
    {
     "name": "stdout",
     "output_type": "stream",
     "text": [
      "2022\n",
      "11\n",
      "2\n",
      "2022\n",
      "11\n",
      "1\n"
     ]
    }
   ],
   "source": [
    "from datetime import timedelta\n",
    "now = date.today()\n",
    "print(now.year)\n",
    "print(now.month)\n",
    "print(now.day)\n",
    "\n",
    "one_day = timedelta(days=1)\n",
    "\n",
    "yesterday = now - one_day\n",
    "print(yesterday.year)\n",
    "print(yesterday.month)\n",
    "print(yesterday.day)"
   ]
  }
 ],
 "metadata": {
  "kernelspec": {
   "display_name": "Python 3.9.2 ('venv03')",
   "language": "python",
   "name": "python3"
  },
  "language_info": {
   "codemirror_mode": {
    "name": "ipython",
    "version": 3
   },
   "file_extension": ".py",
   "mimetype": "text/x-python",
   "name": "python",
   "nbconvert_exporter": "python",
   "pygments_lexer": "ipython3",
   "version": "3.9.2"
  },
  "orig_nbformat": 4,
  "vscode": {
   "interpreter": {
    "hash": "f0a22ababe98e7ab9c01d2922448052666697295ff074604cbdab1201993c8a2"
   }
  }
 },
 "nbformat": 4,
 "nbformat_minor": 2
}
