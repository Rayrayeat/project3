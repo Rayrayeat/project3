{
 "cells": [
  {
   "cell_type": "code",
   "execution_count": 2,
   "metadata": {},
   "outputs": [
    {
     "name": "stdout",
     "output_type": "stream",
     "text": [
      "2008\n",
      "10\n",
      "9\n"
     ]
    }
   ],
   "source": [
    "from datetime import date\n",
    "halloween = date(2008, 10, 9)\n",
    "print(halloween.year)\n",
    "print(halloween.month)\n",
    "print(halloween.day)"
   ]
  }
 ],
 "metadata": {
  "kernelspec": {
   "display_name": "Python 3.9.2 ('venv03')",
   "language": "python",
   "name": "python3"
  },
  "language_info": {
   "codemirror_mode": {
    "name": "ipython",
    "version": 3
   },
   "file_extension": ".py",
   "mimetype": "text/x-python",
   "name": "python",
   "nbconvert_exporter": "python",
   "pygments_lexer": "ipython3",
   "version": "3.9.2"
  },
  "orig_nbformat": 4,
  "vscode": {
   "interpreter": {
    "hash": "f0a22ababe98e7ab9c01d2922448052666697295ff074604cbdab1201993c8a2"
   }
  }
 },
 "nbformat": 4,
 "nbformat_minor": 2
}
